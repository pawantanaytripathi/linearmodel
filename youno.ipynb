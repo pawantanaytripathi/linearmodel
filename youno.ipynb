{
 "metadata": {
  "language_info": {
   "codemirror_mode": {
    "name": "ipython",
    "version": 3
   },
   "file_extension": ".py",
   "mimetype": "text/x-python",
   "name": "python",
   "nbconvert_exporter": "python",
   "pygments_lexer": "ipython3",
   "version": "3.7.6-final"
  },
  "orig_nbformat": 2,
  "kernelspec": {
   "name": "Python 3.7.6 64-bit",
   "display_name": "Python 3.7.6 64-bit",
   "metadata": {
    "interpreter": {
     "hash": "0600588c3b5f4418cbe7b5ebc6825b479f3bc010269d8b60d75058cdd010adfe"
    }
   }
  }
 },
 "nbformat": 4,
 "nbformat_minor": 2,
 "cells": [
  {
   "cell_type": "code",
   "execution_count": 2,
   "metadata": {},
   "outputs": [],
   "source": [
    "import tensorflow as tf\n",
    "import numpy as np\n",
    "from tensorflow import keras\n",
    "import pandas as pd\n",
    "import pathlib\n",
    "import os\n",
    "\n"
   ]
  },
  {
   "cell_type": "code",
   "execution_count": 3,
   "metadata": {},
   "outputs": [
    {
     "output_type": "execute_result",
     "data": {
      "text/plain": "   YearBuilt  2ndFlrSF  GrLivArea  FullBath  HalfBath  BedroomAbvGr  \\\n0       2003       854       1710         2         1             3   \n1       1976         0       1262         2         0             3   \n2       2001       866       1786         2         1             3   \n3       1915       756       1717         1         0             3   \n4       2000      1053       2198         2         1             4   \n\n   TotRmsAbvGrd  YrSold  SalePrice  \n0             8    2008     208500  \n1             6    2007     181500  \n2             6    2008     223500  \n3             7    2006     140000  \n4             9    2008     250000  ",
      "text/html": "<div>\n<style scoped>\n    .dataframe tbody tr th:only-of-type {\n        vertical-align: middle;\n    }\n\n    .dataframe tbody tr th {\n        vertical-align: top;\n    }\n\n    .dataframe thead th {\n        text-align: right;\n    }\n</style>\n<table border=\"1\" class=\"dataframe\">\n  <thead>\n    <tr style=\"text-align: right;\">\n      <th></th>\n      <th>YearBuilt</th>\n      <th>2ndFlrSF</th>\n      <th>GrLivArea</th>\n      <th>FullBath</th>\n      <th>HalfBath</th>\n      <th>BedroomAbvGr</th>\n      <th>TotRmsAbvGrd</th>\n      <th>YrSold</th>\n      <th>SalePrice</th>\n    </tr>\n  </thead>\n  <tbody>\n    <tr>\n      <th>0</th>\n      <td>2003</td>\n      <td>854</td>\n      <td>1710</td>\n      <td>2</td>\n      <td>1</td>\n      <td>3</td>\n      <td>8</td>\n      <td>2008</td>\n      <td>208500</td>\n    </tr>\n    <tr>\n      <th>1</th>\n      <td>1976</td>\n      <td>0</td>\n      <td>1262</td>\n      <td>2</td>\n      <td>0</td>\n      <td>3</td>\n      <td>6</td>\n      <td>2007</td>\n      <td>181500</td>\n    </tr>\n    <tr>\n      <th>2</th>\n      <td>2001</td>\n      <td>866</td>\n      <td>1786</td>\n      <td>2</td>\n      <td>1</td>\n      <td>3</td>\n      <td>6</td>\n      <td>2008</td>\n      <td>223500</td>\n    </tr>\n    <tr>\n      <th>3</th>\n      <td>1915</td>\n      <td>756</td>\n      <td>1717</td>\n      <td>1</td>\n      <td>0</td>\n      <td>3</td>\n      <td>7</td>\n      <td>2006</td>\n      <td>140000</td>\n    </tr>\n    <tr>\n      <th>4</th>\n      <td>2000</td>\n      <td>1053</td>\n      <td>2198</td>\n      <td>2</td>\n      <td>1</td>\n      <td>4</td>\n      <td>9</td>\n      <td>2008</td>\n      <td>250000</td>\n    </tr>\n  </tbody>\n</table>\n</div>"
     },
     "metadata": {},
     "execution_count": 3
    }
   ],
   "source": [
    "df = pd.read_csv('HousingPrices.csv')\n",
    "X = df.drop(columns=['SalePrice'])\n",
    "ydf = df[['SalePrice']]\n",
    "df.head()\n",
    "\n"
   ]
  },
  {
   "cell_type": "code",
   "execution_count": 4,
   "metadata": {
    "tags": []
   },
   "outputs": [],
   "source": [
    "\n",
    "from sklearn.model_selection import train_test_split\n",
    "xtrain, xtest, ytrain, ytest = train_test_split(X, ydf, test_size = 0.2)"
   ]
  },
  {
   "cell_type": "code",
   "execution_count": 5,
   "metadata": {
    "tags": []
   },
   "outputs": [],
   "source": [
    "xval, x_test, yval, y_test = train_test_split(xtest, ytest, test_size = 0.5)\n",
    "\n",
    "\n",
    "     "
   ]
  },
  {
   "cell_type": "code",
   "execution_count": 6,
   "metadata": {
    "tags": []
   },
   "outputs": [
    {
     "output_type": "stream",
     "name": "stdout",
     "text": "Model: &quot;sequential&quot;\n_________________________________________________________________\nLayer (type)                 Output Shape              Param #   \n=================================================================\ndense (Dense)                (None, 8)                 72        \n_________________________________________________________________\ndense_1 (Dense)              (None, 8)                 72        \n_________________________________________________________________\ndense_2 (Dense)              (None, 1)                 9         \n=================================================================\nTotal params: 153\nTrainable params: 153\nNon-trainable params: 0\n_________________________________________________________________\n"
    }
   ],
   "source": [
    "\n",
    "    \n",
    "    model = keras.Sequential()\n",
    "    model.add(keras.layers.Dense(units= 8,activation= 'relu', input_shape = (8,)))\n",
    "    model.add(keras.layers.Dense(units= 8, activation= 'relu'))\n",
    "    model.add(keras.layers.Dense(units=1))\n",
    "    model.compile(optimizer='adam', loss='mean_squared_error',metrics=['mean_squared_error'])\n",
    "    model.summary()\n",
    "   "
   ]
  },
  {
   "cell_type": "code",
   "execution_count": 7,
   "metadata": {
    "tags": []
   },
   "outputs": [
    {
     "output_type": "stream",
     "name": "stdout",
     "text": "Epoch 1/30\n37/37 [==============================] - 0s 7ms/step - loss: 38140891136.0000 - mean_squared_error: 38140891136.0000 - val_loss: 39503196160.0000 - val_mean_squared_error: 39503196160.0000\nEpoch 2/30\n37/37 [==============================] - 0s 1ms/step - loss: 38100000768.0000 - mean_squared_error: 38100000768.0000 - val_loss: 39486271488.0000 - val_mean_squared_error: 39486271488.0000\nEpoch 3/30\n37/37 [==============================] - 0s 1ms/step - loss: 38093328384.0000 - mean_squared_error: 38093328384.0000 - val_loss: 39484444672.0000 - val_mean_squared_error: 39484444672.0000\nEpoch 4/30\n37/37 [==============================] - 0s 1ms/step - loss: 38092541952.0000 - mean_squared_error: 38092541952.0000 - val_loss: 39484264448.0000 - val_mean_squared_error: 39484264448.0000\nEpoch 5/30\n37/37 [==============================] - 0s 1ms/step - loss: 38092345344.0000 - mean_squared_error: 38092345344.0000 - val_loss: 39484174336.0000 - val_mean_squared_error: 39484174336.0000\nEpoch 6/30\n37/37 [==============================] - 0s 1ms/step - loss: 38092238848.0000 - mean_squared_error: 38092238848.0000 - val_loss: 39484162048.0000 - val_mean_squared_error: 39484162048.0000\nEpoch 7/30\n37/37 [==============================] - 0s 1ms/step - loss: 38092144640.0000 - mean_squared_error: 38092144640.0000 - val_loss: 39484145664.0000 - val_mean_squared_error: 39484145664.0000\nEpoch 8/30\n37/37 [==============================] - 0s 1ms/step - loss: 38092099584.0000 - mean_squared_error: 38092099584.0000 - val_loss: 39484137472.0000 - val_mean_squared_error: 39484137472.0000\nEpoch 9/30\n37/37 [==============================] - 0s 1ms/step - loss: 38092062720.0000 - mean_squared_error: 38092062720.0000 - val_loss: 39484116992.0000 - val_mean_squared_error: 39484116992.0000\nEpoch 10/30\n37/37 [==============================] - 0s 1ms/step - loss: 38092029952.0000 - mean_squared_error: 38092029952.0000 - val_loss: 39484104704.0000 - val_mean_squared_error: 39484104704.0000\nEpoch 11/30\n37/37 [==============================] - 0s 1ms/step - loss: 38092009472.0000 - mean_squared_error: 38092009472.0000 - val_loss: 39484092416.0000 - val_mean_squared_error: 39484092416.0000\nEpoch 12/30\n37/37 [==============================] - 0s 1ms/step - loss: 38092001280.0000 - mean_squared_error: 38092001280.0000 - val_loss: 39484080128.0000 - val_mean_squared_error: 39484080128.0000\nEpoch 13/30\n37/37 [==============================] - 0s 1ms/step - loss: 38091984896.0000 - mean_squared_error: 38091984896.0000 - val_loss: 39484067840.0000 - val_mean_squared_error: 39484067840.0000\nEpoch 14/30\n37/37 [==============================] - 0s 1ms/step - loss: 38091968512.0000 - mean_squared_error: 38091968512.0000 - val_loss: 39484051456.0000 - val_mean_squared_error: 39484051456.0000\nEpoch 15/30\n37/37 [==============================] - 0s 1ms/step - loss: 38091960320.0000 - mean_squared_error: 38091960320.0000 - val_loss: 39484035072.0000 - val_mean_squared_error: 39484035072.0000\nEpoch 16/30\n37/37 [==============================] - 0s 1ms/step - loss: 38091948032.0000 - mean_squared_error: 38091948032.0000 - val_loss: 39484026880.0000 - val_mean_squared_error: 39484026880.0000\nEpoch 17/30\n37/37 [==============================] - 0s 1ms/step - loss: 38091927552.0000 - mean_squared_error: 38091927552.0000 - val_loss: 39484014592.0000 - val_mean_squared_error: 39484014592.0000\nEpoch 18/30\n37/37 [==============================] - 0s 1ms/step - loss: 38091927552.0000 - mean_squared_error: 38091927552.0000 - val_loss: 39483998208.0000 - val_mean_squared_error: 39483998208.0000\nEpoch 19/30\n37/37 [==============================] - 0s 1ms/step - loss: 38091907072.0000 - mean_squared_error: 38091907072.0000 - val_loss: 39483985920.0000 - val_mean_squared_error: 39483985920.0000\nEpoch 20/30\n37/37 [==============================] - 0s 1ms/step - loss: 38091898880.0000 - mean_squared_error: 38091898880.0000 - val_loss: 39483969536.0000 - val_mean_squared_error: 39483969536.0000\nEpoch 21/30\n37/37 [==============================] - 0s 1ms/step - loss: 38091878400.0000 - mean_squared_error: 38091878400.0000 - val_loss: 39483953152.0000 - val_mean_squared_error: 39483953152.0000\nEpoch 22/30\n37/37 [==============================] - 0s 1ms/step - loss: 38091866112.0000 - mean_squared_error: 38091866112.0000 - val_loss: 39483940864.0000 - val_mean_squared_error: 39483940864.0000\nEpoch 23/30\n37/37 [==============================] - 0s 1ms/step - loss: 38091849728.0000 - mean_squared_error: 38091849728.0000 - val_loss: 39483936768.0000 - val_mean_squared_error: 39483936768.0000\nEpoch 24/30\n37/37 [==============================] - 0s 1ms/step - loss: 38091841536.0000 - mean_squared_error: 38091841536.0000 - val_loss: 39483916288.0000 - val_mean_squared_error: 39483916288.0000\nEpoch 25/30\n37/37 [==============================] - 0s 1ms/step - loss: 38091833344.0000 - mean_squared_error: 38091833344.0000 - val_loss: 39483904000.0000 - val_mean_squared_error: 39483904000.0000\nEpoch 26/30\n37/37 [==============================] - 0s 1ms/step - loss: 38091821056.0000 - mean_squared_error: 38091821056.0000 - val_loss: 39483887616.0000 - val_mean_squared_error: 39483887616.0000\nEpoch 27/30\n37/37 [==============================] - 0s 1ms/step - loss: 38091804672.0000 - mean_squared_error: 38091804672.0000 - val_loss: 39483879424.0000 - val_mean_squared_error: 39483879424.0000\nEpoch 28/30\n37/37 [==============================] - 0s 1ms/step - loss: 38091792384.0000 - mean_squared_error: 38091792384.0000 - val_loss: 39483863040.0000 - val_mean_squared_error: 39483863040.0000\nEpoch 29/30\n37/37 [==============================] - 0s 1ms/step - loss: 38091767808.0000 - mean_squared_error: 38091767808.0000 - val_loss: 39483850752.0000 - val_mean_squared_error: 39483850752.0000\nEpoch 30/30\n37/37 [==============================] - 0s 1ms/step - loss: 38091767808.0000 - mean_squared_error: 38091767808.0000 - val_loss: 39483838464.0000 - val_mean_squared_error: 39483838464.0000\n"
    },
    {
     "output_type": "execute_result",
     "data": {
      "text/plain": "&lt;tensorflow.python.keras.callbacks.History at 0x18d9f6bd448&gt;"
     },
     "metadata": {},
     "execution_count": 7
    }
   ],
   "source": [
    " model.fit(xtrain,ytrain, epochs=30,validation_data=(xval,yval))\n",
    "    "
   ]
  },
  {
   "cell_type": "code",
   "execution_count": 8,
   "metadata": {
    "tags": []
   },
   "outputs": [
    {
     "output_type": "stream",
     "name": "stdout",
     "text": "[[1.106905]]\n"
    }
   ],
   "source": [
    "test_data = np.array([2003,\t854,\t1710,\t2,\t1,\t3,\t8,\t2008])\n",
    "print(model.predict(test_data.reshape(1,8)))"
   ]
  },
  {
   "cell_type": "code",
   "execution_count": 9,
   "metadata": {},
   "outputs": [],
   "source": [
    "keras_file = 'linear.h5'\n",
    "keras.models.save_model(model,keras_file)\n"
   ]
  },
  {
   "cell_type": "code",
   "execution_count": 10,
   "metadata": {
    "tags": []
   },
   "outputs": [
    {
     "output_type": "stream",
     "name": "stdout",
     "text": "WARNING:tensorflow:From C:\\Program Files\\Python37\\lib\\site-packages\\tensorflow\\python\\training\\tracking\\tracking.py:111: Model.state_updates (from tensorflow.python.keras.engine.training) is deprecated and will be removed in a future version.\nInstructions for updating:\nThis property should not be used in TensorFlow 2.0, as updates are applied automatically.\nWARNING:tensorflow:From C:\\Program Files\\Python37\\lib\\site-packages\\tensorflow\\python\\training\\tracking\\tracking.py:111: Layer.updates (from tensorflow.python.keras.engine.base_layer) is deprecated and will be removed in a future version.\nInstructions for updating:\nThis property should not be used in TensorFlow 2.0, as updates are applied automatically.\nINFO:tensorflow:Assets written to: C:\\Users\\NAMANB~1\\AppData\\Local\\Temp\\tmpns8y5c2c\\assets\n"
    }
   ],
   "source": [
    "converter = tf.lite.TFLiteConverter.from_keras_model(model)\n",
    "tflite_model = converter.convert()\n",
    "\n"
   ]
  },
  {
   "cell_type": "code",
   "execution_count": 11,
   "metadata": {},
   "outputs": [
    {
     "output_type": "execute_result",
     "data": {
      "text/plain": "2120"
     },
     "metadata": {},
     "execution_count": 11
    }
   ],
   "source": [
    "tflite_model_file = pathlib.Path('model.tflite')\n",
    "tflite_model_file.write_bytes(tflite_model)"
   ]
  },
  {
   "cell_type": "code",
   "execution_count": 12,
   "metadata": {},
   "outputs": [],
   "source": [
    "interpreter = tf.lite.Interpreter(model_content=tflite_model)\n",
    "interpreter.allocate_tensors()\n",
    "\n",
    "# Get input and output tensors.\n",
    "input_details = interpreter.get_input_details()\n",
    "output_details = interpreter.get_output_details()"
   ]
  },
  {
   "cell_type": "code",
   "execution_count": null,
   "metadata": {},
   "outputs": [],
   "source": []
  }
 ]
}