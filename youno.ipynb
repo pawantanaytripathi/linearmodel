{
 "metadata": {
  "language_info": {
   "codemirror_mode": {
    "name": "ipython",
    "version": 3
   },
   "file_extension": ".py",
   "mimetype": "text/x-python",
   "name": "python",
   "nbconvert_exporter": "python",
   "pygments_lexer": "ipython3",
   "version": "3.7.6-final"
  },
  "orig_nbformat": 2,
  "kernelspec": {
   "name": "Python 3.7.6 64-bit",
   "display_name": "Python 3.7.6 64-bit",
   "metadata": {
    "interpreter": {
     "hash": "0600588c3b5f4418cbe7b5ebc6825b479f3bc010269d8b60d75058cdd010adfe"
    }
   }
  }
 },
 "nbformat": 4,
 "nbformat_minor": 2,
 "cells": [
  {
   "cell_type": "code",
   "execution_count": 1,
   "metadata": {},
   "outputs": [],
   "source": [
    "import tensorflow as tf\n",
    "import numpy as np\n",
    "from tensorflow import keras\n",
    "import pandas as pd\n",
    "import pathlib\n",
    "import os\n",
    "\n"
   ]
  },
  {
   "cell_type": "code",
   "execution_count": 2,
   "metadata": {},
   "outputs": [
    {
     "output_type": "execute_result",
     "data": {
      "text/plain": "   YearBuilt  2ndFlrSF  GrLivArea  FullBath  HalfBath  BedroomAbvGr  \\\n0       2003       854       1710         2         1             3   \n1       1976         0       1262         2         0             3   \n2       2001       866       1786         2         1             3   \n3       1915       756       1717         1         0             3   \n4       2000      1053       2198         2         1             4   \n\n   TotRmsAbvGrd  YrSold  SalePrice  \n0             8    2008     208500  \n1             6    2007     181500  \n2             6    2008     223500  \n3             7    2006     140000  \n4             9    2008     250000  ",
      "text/html": "<div>\n<style scoped>\n    .dataframe tbody tr th:only-of-type {\n        vertical-align: middle;\n    }\n\n    .dataframe tbody tr th {\n        vertical-align: top;\n    }\n\n    .dataframe thead th {\n        text-align: right;\n    }\n</style>\n<table border=\"1\" class=\"dataframe\">\n  <thead>\n    <tr style=\"text-align: right;\">\n      <th></th>\n      <th>YearBuilt</th>\n      <th>2ndFlrSF</th>\n      <th>GrLivArea</th>\n      <th>FullBath</th>\n      <th>HalfBath</th>\n      <th>BedroomAbvGr</th>\n      <th>TotRmsAbvGrd</th>\n      <th>YrSold</th>\n      <th>SalePrice</th>\n    </tr>\n  </thead>\n  <tbody>\n    <tr>\n      <th>0</th>\n      <td>2003</td>\n      <td>854</td>\n      <td>1710</td>\n      <td>2</td>\n      <td>1</td>\n      <td>3</td>\n      <td>8</td>\n      <td>2008</td>\n      <td>208500</td>\n    </tr>\n    <tr>\n      <th>1</th>\n      <td>1976</td>\n      <td>0</td>\n      <td>1262</td>\n      <td>2</td>\n      <td>0</td>\n      <td>3</td>\n      <td>6</td>\n      <td>2007</td>\n      <td>181500</td>\n    </tr>\n    <tr>\n      <th>2</th>\n      <td>2001</td>\n      <td>866</td>\n      <td>1786</td>\n      <td>2</td>\n      <td>1</td>\n      <td>3</td>\n      <td>6</td>\n      <td>2008</td>\n      <td>223500</td>\n    </tr>\n    <tr>\n      <th>3</th>\n      <td>1915</td>\n      <td>756</td>\n      <td>1717</td>\n      <td>1</td>\n      <td>0</td>\n      <td>3</td>\n      <td>7</td>\n      <td>2006</td>\n      <td>140000</td>\n    </tr>\n    <tr>\n      <th>4</th>\n      <td>2000</td>\n      <td>1053</td>\n      <td>2198</td>\n      <td>2</td>\n      <td>1</td>\n      <td>4</td>\n      <td>9</td>\n      <td>2008</td>\n      <td>250000</td>\n    </tr>\n  </tbody>\n</table>\n</div>"
     },
     "metadata": {},
     "execution_count": 2
    }
   ],
   "source": [
    "df = pd.read_csv('HousingPrices.csv')\n",
    "X = df.drop(columns=['SalePrice'])\n",
    "ydf = df[['SalePrice']]\n",
    "df.head()\n",
    "\n"
   ]
  },
  {
   "cell_type": "code",
   "execution_count": 3,
   "metadata": {
    "tags": []
   },
   "outputs": [],
   "source": [
    "\n",
    "from sklearn.model_selection import train_test_split\n",
    "xtrain, xtest, ytrain, ytest = train_test_split(X, ydf, test_size = 0.2)"
   ]
  },
  {
   "cell_type": "code",
   "execution_count": 4,
   "metadata": {
    "tags": []
   },
   "outputs": [],
   "source": [
    "xval, x_test, yval, y_test = train_test_split(xtest, ytest, test_size = 0.5)\n",
    "\n",
    "\n",
    "     "
   ]
  },
  {
   "cell_type": "code",
   "execution_count": 5,
   "metadata": {
    "tags": []
   },
   "outputs": [
    {
     "output_type": "stream",
     "name": "stdout",
     "text": "Model: &quot;sequential&quot;\n_________________________________________________________________\nLayer (type)                 Output Shape              Param #   \n=================================================================\ndense (Dense)                (None, 8)                 72        \n_________________________________________________________________\ndense_1 (Dense)              (None, 8)                 72        \n_________________________________________________________________\ndense_2 (Dense)              (None, 1)                 9         \n=================================================================\nTotal params: 153\nTrainable params: 153\nNon-trainable params: 0\n_________________________________________________________________\n"
    }
   ],
   "source": [
    "\n",
    "    \n",
    "    model = keras.Sequential()\n",
    "    model.add(keras.layers.Dense(units= 8,activation= 'relu', input_shape = (8,)))\n",
    "    model.add(keras.layers.Dense(units= 8, activation= 'relu'))\n",
    "    model.add(keras.layers.Dense(units=1))\n",
    "    model.compile(optimizer='adam', loss='mean_squared_error',metrics=['mean_squared_error'])\n",
    "    model.summary()\n",
    "   "
   ]
  },
  {
   "cell_type": "code",
   "execution_count": 6,
   "metadata": {
    "tags": []
   },
   "outputs": [
    {
     "output_type": "stream",
     "name": "stdout",
     "text": "Epoch 1/30\n37/37 [==============================] - 0s 4ms/step - loss: 38458482688.0000 - mean_squared_error: 38458482688.0000 - val_loss: 40367620096.0000 - val_mean_squared_error: 40367620096.0000\nEpoch 2/30\n37/37 [==============================] - 0s 998us/step - loss: 38314094592.0000 - mean_squared_error: 38314094592.0000 - val_loss: 40187011072.0000 - val_mean_squared_error: 40187011072.0000\nEpoch 3/30\n37/37 [==============================] - 0s 1ms/step - loss: 38092304384.0000 - mean_squared_error: 38092304384.0000 - val_loss: 39919304704.0000 - val_mean_squared_error: 39919304704.0000\nEpoch 4/30\n37/37 [==============================] - 0s 1ms/step - loss: 37777444864.0000 - mean_squared_error: 37777444864.0000 - val_loss: 39558766592.0000 - val_mean_squared_error: 39558766592.0000\nEpoch 5/30\n37/37 [==============================] - 0s 964us/step - loss: 37359276032.0000 - mean_squared_error: 37359276032.0000 - val_loss: 39074156544.0000 - val_mean_squared_error: 39074156544.0000\nEpoch 6/30\n37/37 [==============================] - 0s 1ms/step - loss: 36806283264.0000 - mean_squared_error: 36806283264.0000 - val_loss: 38445436928.0000 - val_mean_squared_error: 38445436928.0000\nEpoch 7/30\n37/37 [==============================] - 0s 1ms/step - loss: 36095029248.0000 - mean_squared_error: 36095029248.0000 - val_loss: 37650112512.0000 - val_mean_squared_error: 37650112512.0000\nEpoch 8/30\n37/37 [==============================] - 0s 972us/step - loss: 35203518464.0000 - mean_squared_error: 35203518464.0000 - val_loss: 36665479168.0000 - val_mean_squared_error: 36665479168.0000\nEpoch 9/30\n37/37 [==============================] - 0s 1ms/step - loss: 34120652800.0000 - mean_squared_error: 34120652800.0000 - val_loss: 35470516224.0000 - val_mean_squared_error: 35470516224.0000\nEpoch 10/30\n37/37 [==============================] - 0s 1ms/step - loss: 32826896384.0000 - mean_squared_error: 32826896384.0000 - val_loss: 34076669952.0000 - val_mean_squared_error: 34076669952.0000\nEpoch 11/30\n37/37 [==============================] - 0s 978us/step - loss: 31335340032.0000 - mean_squared_error: 31335340032.0000 - val_loss: 32473651200.0000 - val_mean_squared_error: 32473649152.0000\nEpoch 12/30\n37/37 [==============================] - 0s 923us/step - loss: 29635301376.0000 - mean_squared_error: 29635301376.0000 - val_loss: 30675990528.0000 - val_mean_squared_error: 30675990528.0000\nEpoch 13/30\n37/37 [==============================] - 0s 972us/step - loss: 27765471232.0000 - mean_squared_error: 27765471232.0000 - val_loss: 28697253888.0000 - val_mean_squared_error: 28697253888.0000\nEpoch 14/30\n37/37 [==============================] - 0s 993us/step - loss: 25709586432.0000 - mean_squared_error: 25709586432.0000 - val_loss: 26483830784.0000 - val_mean_squared_error: 26483830784.0000\nEpoch 15/30\n37/37 [==============================] - 0s 1ms/step - loss: 23320244224.0000 - mean_squared_error: 23320244224.0000 - val_loss: 23894216704.0000 - val_mean_squared_error: 23894216704.0000\nEpoch 16/30\n37/37 [==============================] - 0s 1ms/step - loss: 20590612480.0000 - mean_squared_error: 20590612480.0000 - val_loss: 20902379520.0000 - val_mean_squared_error: 20902379520.0000\nEpoch 17/30\n37/37 [==============================] - 0s 961us/step - loss: 17565816832.0000 - mean_squared_error: 17565816832.0000 - val_loss: 17771929600.0000 - val_mean_squared_error: 17771929600.0000\nEpoch 18/30\n37/37 [==============================] - 0s 960us/step - loss: 14515774464.0000 - mean_squared_error: 14515774464.0000 - val_loss: 14761924608.0000 - val_mean_squared_error: 14761924608.0000\nEpoch 19/30\n37/37 [==============================] - 0s 969us/step - loss: 11751732224.0000 - mean_squared_error: 11751732224.0000 - val_loss: 12013086720.0000 - val_mean_squared_error: 12013086720.0000\nEpoch 20/30\n37/37 [==============================] - 0s 934us/step - loss: 9385810944.0000 - mean_squared_error: 9385810944.0000 - val_loss: 9764423680.0000 - val_mean_squared_error: 9764423680.0000\nEpoch 21/30\n37/37 [==============================] - 0s 1ms/step - loss: 7532215808.0000 - mean_squared_error: 7532215808.0000 - val_loss: 8019913216.0000 - val_mean_squared_error: 8019913216.0000\nEpoch 22/30\n37/37 [==============================] - 0s 983us/step - loss: 6171958784.0000 - mean_squared_error: 6171958784.0000 - val_loss: 6800279552.0000 - val_mean_squared_error: 6800279552.0000\nEpoch 23/30\n37/37 [==============================] - 0s 1ms/step - loss: 5268639744.0000 - mean_squared_error: 5268639744.0000 - val_loss: 5951661056.0000 - val_mean_squared_error: 5951661056.0000\nEpoch 24/30\n37/37 [==============================] - 0s 949us/step - loss: 4719730688.0000 - mean_squared_error: 4719730688.0000 - val_loss: 5450808320.0000 - val_mean_squared_error: 5450808320.0000\nEpoch 25/30\n37/37 [==============================] - 0s 912us/step - loss: 4432603648.0000 - mean_squared_error: 4432603648.0000 - val_loss: 5124643840.0000 - val_mean_squared_error: 5124643840.0000\nEpoch 26/30\n37/37 [==============================] - 0s 1ms/step - loss: 4271478016.0000 - mean_squared_error: 4271478016.0000 - val_loss: 4972643328.0000 - val_mean_squared_error: 4972643328.0000\nEpoch 27/30\n37/37 [==============================] - 0s 942us/step - loss: 4203884032.0000 - mean_squared_error: 4203884032.0000 - val_loss: 4877191168.0000 - val_mean_squared_error: 4877191168.0000\nEpoch 28/30\n37/37 [==============================] - 0s 954us/step - loss: 4169606912.0000 - mean_squared_error: 4169606912.0000 - val_loss: 4818880000.0000 - val_mean_squared_error: 4818880000.0000\nEpoch 29/30\n37/37 [==============================] - 0s 957us/step - loss: 4150823936.0000 - mean_squared_error: 4150823936.0000 - val_loss: 4796025856.0000 - val_mean_squared_error: 4796025856.0000\nEpoch 30/30\n37/37 [==============================] - 0s 938us/step - loss: 4140313088.0000 - mean_squared_error: 4140313088.0000 - val_loss: 4767742976.0000 - val_mean_squared_error: 4767742976.0000\n"
    },
    {
     "output_type": "execute_result",
     "data": {
      "text/plain": "&lt;tensorflow.python.keras.callbacks.History at 0x173ebca4188&gt;"
     },
     "metadata": {},
     "execution_count": 6
    }
   ],
   "source": [
    " model.fit(xtrain,ytrain, epochs=30,validation_data=(xval,yval))\n",
    "    "
   ]
  },
  {
   "cell_type": "code",
   "execution_count": 7,
   "metadata": {
    "tags": []
   },
   "outputs": [
    {
     "output_type": "stream",
     "name": "stdout",
     "text": "[[205640.81]]\n"
    }
   ],
   "source": [
    "test_data = np.array([2003,\t854,\t1710,\t2,\t1,\t3,\t8,\t2008])\n",
    "print(model.predict(test_data.reshape(1,8)))"
   ]
  },
  {
   "cell_type": "code",
   "execution_count": 8,
   "metadata": {
    "tags": []
   },
   "outputs": [],
   "source": [
    "TF_LITE_MODEL_FILE_NAME = \"tf_lite_model.tflite\"\n"
   ]
  },
  {
   "cell_type": "code",
   "execution_count": 9,
   "metadata": {
    "tags": []
   },
   "outputs": [
    {
     "output_type": "stream",
     "name": "stdout",
     "text": "WARNING:tensorflow:From C:\\Program Files\\Python37\\lib\\site-packages\\tensorflow\\python\\training\\tracking\\tracking.py:111: Model.state_updates (from tensorflow.python.keras.engine.training) is deprecated and will be removed in a future version.\nInstructions for updating:\nThis property should not be used in TensorFlow 2.0, as updates are applied automatically.\nWARNING:tensorflow:From C:\\Program Files\\Python37\\lib\\site-packages\\tensorflow\\python\\training\\tracking\\tracking.py:111: Layer.updates (from tensorflow.python.keras.engine.base_layer) is deprecated and will be removed in a future version.\nInstructions for updating:\nThis property should not be used in TensorFlow 2.0, as updates are applied automatically.\nINFO:tensorflow:Assets written to: C:\\Users\\NAMANB~1\\AppData\\Local\\Temp\\tmp43mqwpb1\\assets\n"
    }
   ],
   "source": [
    "tf_lite_converter = tf.lite.TFLiteConverter.from_keras_model(model)\n",
    "tf_lite_converter.optimizations = [tf.lite.Optimize.OPTIMIZE_FOR_SIZE]\n",
    "# tf_lite_converter.optimizations = [tf.lite.Optimize.DEFAULT]\n",
    "# tf_lite_converter.target_spec.supported_types = [tf.float16]\n",
    "tflite_model = tf_lite_converter.convert()"
   ]
  },
  {
   "cell_type": "code",
   "execution_count": 10,
   "metadata": {},
   "outputs": [
    {
     "output_type": "execute_result",
     "data": {
      "text/plain": "2224"
     },
     "metadata": {},
     "execution_count": 10
    }
   ],
   "source": [
    "tflite_model_name = TF_LITE_MODEL_FILE_NAME\n",
    "open(tflite_model_name, \"wb\").write(tflite_model)"
   ]
  },
  {
   "cell_type": "code",
   "execution_count": 12,
   "metadata": {
    "tags": []
   },
   "outputs": [
    {
     "output_type": "stream",
     "name": "stdout",
     "text": "Input Shape: [1 8]\nInput Type: &lt;class &#39;numpy.float32&#39;&gt;\nOutput Shape: [1 1]\nOutput Type: &lt;class &#39;numpy.float32&#39;&gt;\n"
    }
   ],
   "source": [
    "interpreter = tf.lite.Interpreter(model_path = TF_LITE_MODEL_FILE_NAME)\n",
    "input_details = interpreter.get_input_details()\n",
    "output_details = interpreter.get_output_details()\n",
    "print(\"Input Shape:\", input_details[0]['shape'])\n",
    "print(\"Input Type:\", input_details[0]['dtype'])\n",
    "print(\"Output Shape:\", output_details[0]['shape'])\n",
    "print(\"Output Type:\", output_details[0]['dtype'])"
   ]
  },
  {
   "cell_type": "code",
   "execution_count": null,
   "metadata": {},
   "outputs": [],
   "source": []
  }
 ]
}